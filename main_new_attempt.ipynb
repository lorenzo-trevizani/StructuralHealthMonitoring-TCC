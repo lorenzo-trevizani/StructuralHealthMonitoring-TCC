{
 "cells": [
  {
   "cell_type": "code",
   "execution_count": 1,
   "metadata": {},
   "outputs": [],
   "source": [
    "import glob\n",
    "import matplotlib.pyplot as plt\n",
    "import pandas as pd\n",
    "from numpy.fft import fft, ifft\n",
    "import numpy as np\n",
    "import scipy\n",
    "import seaborn as sns\n",
    "import re\n",
    "\n",
    "#IMPORTING FUNCTIONS FOR CLASSIFIERS\n",
    "from sklearn.model_selection import cross_val_score, train_test_split, KFold, StratifiedShuffleSplit, TimeSeriesSplit, RepeatedKFold\n",
    "from sklearn.preprocessing import StandardScaler\n",
    "from sklearn.preprocessing import LabelBinarizer\n",
    "from sklearn.preprocessing import LabelEncoder\n",
    "from sklearn.ensemble import RandomForestClassifier\n",
    "from sklearn.ensemble import ExtraTreesClassifier\n",
    "\n",
    "#IMPORTING FUNCTIONS FOR CLASSIFIERS METRICS\n",
    "from sklearn.metrics import confusion_matrix\n",
    "from sklearn.metrics import classification_report\n",
    "from sklearn.metrics import ConfusionMatrixDisplay\n",
    "from sklearn.metrics import accuracy_score\n",
    "\n",
    "#OPTMIZE PARAMETHERS\n",
    "import optuna\n",
    "\n",
    "#IMPORTING FUNCTIONS FROM ./defs\n",
    "\n",
    "from defs import defs_"
   ]
  },
  {
   "cell_type": "code",
   "execution_count": 2,
   "metadata": {},
   "outputs": [],
   "source": [
    "#PATHS USED\n",
    "path_quick_test = [\n",
    "    \"./database_raw/DatasetA/zzzAD1.txt\",\n",
    "    \"./database_raw/DatasetA/zzzAD30.txt\",\n",
    "    \"./database_raw/DatasetA/zzzAD12.txt\",\n",
    "]\n",
    "\n",
    "path = glob.glob(\"./database_raw/DatasetA/zzzA*.txt\", recursive=True)\n"
   ]
  },
  {
   "cell_type": "code",
   "execution_count": 3,
   "metadata": {},
   "outputs": [],
   "source": [
    "## Create pratical database with three different scenarios available on DATASETA, use to test code before apply on full database in order to save time\n",
    "# df_quick_test = defs_.prepareDatabase(path_quick_test);\n",
    "### Instead of creating database every time, it was exported as a csv file named 'dataframesimples' on root of project, imported using following code\n",
    "# df_final.to_csv('dataframe_simples')\n",
    "\n",
    "## Create full database with all data available on DATASETA\n",
    "# df_final = defs_.prepareDatabase(path);\n",
    "### Instead of creating database every time, it was exported as a csv file named 'dataframe_final' on root of project, imported using following code\n",
    "# df_final.to_csv('dataframe_final')\n",
    "\n",
    "\n",
    "# df_final"
   ]
  },
  {
   "cell_type": "code",
   "execution_count": 4,
   "metadata": {},
   "outputs": [],
   "source": [
    "# Initiate DF's \n",
    "\n",
    "## Create full database with all data available on DATASETA\n",
    "# df_final = defs_.prepareDatabase(path);\n",
    "### Instead of creating database every time, it was exported as a csv file named 'dataframe_final' on root of project, imported using following code\n",
    "#######\n",
    "df_final = pd.read_csv('dataframe_final', dtype='unicode');\n",
    "#######\n",
    "\n",
    "## Create pratical database with three different scenarios available on DATASETA, use to test code before apply on full database in order to save time\n",
    "# df_quick_test = defs_.prepareDatabase(path_quick_test);\n",
    "### Instead of creating database every time, it was exported as a csv file named 'dataframesimples' on root of project, imported using following code\n",
    "#######\n",
    "df_quick_test = pd.read_csv('dataframe_simples', dtype='unicode');\n",
    "#######"
   ]
  },
  {
   "cell_type": "code",
   "execution_count": 6,
   "metadata": {},
   "outputs": [
    {
     "name": "stderr",
     "output_type": "stream",
     "text": [
      "c:\\Users\\User\\Documents\\StructuralHealthMonitoring-TCC\\defs\\defs_.py:175: SettingWithCopyWarning: \n",
      "A value is trying to be set on a copy of a slice from a DataFrame.\n",
      "Try using .loc[row_indexer,col_indexer] = value instead\n",
      "\n",
      "See the caveats in the documentation: https://pandas.pydata.org/pandas-docs/stable/user_guide/indexing.html#returning-a-view-versus-a-copy\n",
      "  df_filtered['Scenario'] = df_filtered['Scenario'].apply(transform)\n",
      "c:\\Users\\User\\Documents\\StructuralHealthMonitoring-TCC\\defs\\defs_.py:175: SettingWithCopyWarning: \n",
      "A value is trying to be set on a copy of a slice from a DataFrame.\n",
      "Try using .loc[row_indexer,col_indexer] = value instead\n",
      "\n",
      "See the caveats in the documentation: https://pandas.pydata.org/pandas-docs/stable/user_guide/indexing.html#returning-a-view-versus-a-copy\n",
      "  df_filtered['Scenario'] = df_filtered['Scenario'].apply(transform)\n"
     ]
    },
    {
     "data": {
      "text/html": [
       "<div>\n",
       "<style scoped>\n",
       "    .dataframe tbody tr th:only-of-type {\n",
       "        vertical-align: middle;\n",
       "    }\n",
       "\n",
       "    .dataframe tbody tr th {\n",
       "        vertical-align: top;\n",
       "    }\n",
       "\n",
       "    .dataframe thead th {\n",
       "        text-align: right;\n",
       "    }\n",
       "</style>\n",
       "<table border=\"1\" class=\"dataframe\">\n",
       "  <thead>\n",
       "    <tr style=\"text-align: right;\">\n",
       "      <th></th>\n",
       "      <th>mean_S1</th>\n",
       "      <th>std_S1</th>\n",
       "      <th>median_S1</th>\n",
       "      <th>skew_S1</th>\n",
       "      <th>amp_max_min_S1</th>\n",
       "      <th>kurtosis_S1</th>\n",
       "      <th>damaged</th>\n",
       "    </tr>\n",
       "  </thead>\n",
       "  <tbody>\n",
       "    <tr>\n",
       "      <th>0</th>\n",
       "      <td>-0.000414370442</td>\n",
       "      <td>0.043120406327645536</td>\n",
       "      <td>-0.003243883</td>\n",
       "      <td>-0.41442675239991716</td>\n",
       "      <td>0.18522184</td>\n",
       "      <td>0.18229650179968981</td>\n",
       "      <td>1</td>\n",
       "    </tr>\n",
       "    <tr>\n",
       "      <th>1</th>\n",
       "      <td>-0.00149953008</td>\n",
       "      <td>0.08873689907904413</td>\n",
       "      <td>-0.0073719135000000005</td>\n",
       "      <td>-0.008557772829157796</td>\n",
       "      <td>0.3630676</td>\n",
       "      <td>-0.6650972729370102</td>\n",
       "      <td>1</td>\n",
       "    </tr>\n",
       "    <tr>\n",
       "      <th>2</th>\n",
       "      <td>-0.002099744577200001</td>\n",
       "      <td>0.12369873116059492</td>\n",
       "      <td>-0.01570684</td>\n",
       "      <td>0.588571492652289</td>\n",
       "      <td>0.6131021999999999</td>\n",
       "      <td>0.7530364721892133</td>\n",
       "      <td>1</td>\n",
       "    </tr>\n",
       "    <tr>\n",
       "      <th>3</th>\n",
       "      <td>-0.0033677626000000005</td>\n",
       "      <td>0.1388221230414223</td>\n",
       "      <td>-0.042125805</td>\n",
       "      <td>0.26839345162009703</td>\n",
       "      <td>0.5585321</td>\n",
       "      <td>-0.7062843969531509</td>\n",
       "      <td>1</td>\n",
       "    </tr>\n",
       "    <tr>\n",
       "      <th>4</th>\n",
       "      <td>0.0033172219000000003</td>\n",
       "      <td>0.13300805870201626</td>\n",
       "      <td>-0.0047542875</td>\n",
       "      <td>0.3868517885124701</td>\n",
       "      <td>0.5399411000000001</td>\n",
       "      <td>-0.14875481556053805</td>\n",
       "      <td>1</td>\n",
       "    </tr>\n",
       "    <tr>\n",
       "      <th>...</th>\n",
       "      <td>...</td>\n",
       "      <td>...</td>\n",
       "      <td>...</td>\n",
       "      <td>...</td>\n",
       "      <td>...</td>\n",
       "      <td>...</td>\n",
       "      <td>...</td>\n",
       "    </tr>\n",
       "    <tr>\n",
       "      <th>15724</th>\n",
       "      <td>0.004055566004</td>\n",
       "      <td>0.17509878648950966</td>\n",
       "      <td>0.012669401</td>\n",
       "      <td>0.1482822557076639</td>\n",
       "      <td>0.7799347999999999</td>\n",
       "      <td>-0.08531892569890953</td>\n",
       "      <td>0</td>\n",
       "    </tr>\n",
       "    <tr>\n",
       "      <th>15725</th>\n",
       "      <td>-0.018904614004</td>\n",
       "      <td>0.16351748460468576</td>\n",
       "      <td>-0.0049219428499999995</td>\n",
       "      <td>-0.17872425996967795</td>\n",
       "      <td>0.6363976</td>\n",
       "      <td>-0.8093398351879841</td>\n",
       "      <td>0</td>\n",
       "    </tr>\n",
       "    <tr>\n",
       "      <th>15726</th>\n",
       "      <td>0.006331191380000001</td>\n",
       "      <td>0.16095294831202925</td>\n",
       "      <td>0.017822967</td>\n",
       "      <td>-0.11571819701910263</td>\n",
       "      <td>0.7339705999999999</td>\n",
       "      <td>-0.30775402848181344</td>\n",
       "      <td>0</td>\n",
       "    </tr>\n",
       "    <tr>\n",
       "      <th>15727</th>\n",
       "      <td>-0.016735006046</td>\n",
       "      <td>0.1692349426031033</td>\n",
       "      <td>-0.016996605</td>\n",
       "      <td>0.3648674746155068</td>\n",
       "      <td>0.8232618</td>\n",
       "      <td>0.2717300461434293</td>\n",
       "      <td>0</td>\n",
       "    </tr>\n",
       "    <tr>\n",
       "      <th>15728</th>\n",
       "      <td>-0.008306020909090911</td>\n",
       "      <td>0.1626742157808754</td>\n",
       "      <td>-0.019487499999999998</td>\n",
       "      <td>-0.42520832768208916</td>\n",
       "      <td>0.7347163</td>\n",
       "      <td>0.3747749178745816</td>\n",
       "      <td>0</td>\n",
       "    </tr>\n",
       "  </tbody>\n",
       "</table>\n",
       "<p>15729 rows × 7 columns</p>\n",
       "</div>"
      ],
      "text/plain": [
       "                      mean_S1                std_S1               median_S1  \\\n",
       "0             -0.000414370442  0.043120406327645536            -0.003243883   \n",
       "1              -0.00149953008   0.08873689907904413  -0.0073719135000000005   \n",
       "2       -0.002099744577200001   0.12369873116059492             -0.01570684   \n",
       "3      -0.0033677626000000005    0.1388221230414223            -0.042125805   \n",
       "4       0.0033172219000000003   0.13300805870201626           -0.0047542875   \n",
       "...                       ...                   ...                     ...   \n",
       "15724          0.004055566004   0.17509878648950966             0.012669401   \n",
       "15725         -0.018904614004   0.16351748460468576  -0.0049219428499999995   \n",
       "15726    0.006331191380000001   0.16095294831202925             0.017822967   \n",
       "15727         -0.016735006046    0.1692349426031033            -0.016996605   \n",
       "15728   -0.008306020909090911    0.1626742157808754   -0.019487499999999998   \n",
       "\n",
       "                     skew_S1      amp_max_min_S1           kurtosis_S1  \\\n",
       "0       -0.41442675239991716          0.18522184   0.18229650179968981   \n",
       "1      -0.008557772829157796           0.3630676   -0.6650972729370102   \n",
       "2          0.588571492652289  0.6131021999999999    0.7530364721892133   \n",
       "3        0.26839345162009703           0.5585321   -0.7062843969531509   \n",
       "4         0.3868517885124701  0.5399411000000001  -0.14875481556053805   \n",
       "...                      ...                 ...                   ...   \n",
       "15724     0.1482822557076639  0.7799347999999999  -0.08531892569890953   \n",
       "15725   -0.17872425996967795           0.6363976   -0.8093398351879841   \n",
       "15726   -0.11571819701910263  0.7339705999999999  -0.30775402848181344   \n",
       "15727     0.3648674746155068           0.8232618    0.2717300461434293   \n",
       "15728   -0.42520832768208916           0.7347163    0.3747749178745816   \n",
       "\n",
       "       damaged  \n",
       "0            1  \n",
       "1            1  \n",
       "2            1  \n",
       "3            1  \n",
       "4            1  \n",
       "...        ...  \n",
       "15724        0  \n",
       "15725        0  \n",
       "15726        0  \n",
       "15727        0  \n",
       "15728        0  \n",
       "\n",
       "[15729 rows x 7 columns]"
      ]
     },
     "execution_count": 6,
     "metadata": {},
     "output_type": "execute_result"
    }
   ],
   "source": [
    "#######\n",
    "## Create dataframe with separated sensors on quick pratical approach\n",
    "#######\n",
    "df_new_final = defs_.createDatabaseSingleSensor(df_final,1)\n",
    "\n",
    "#######\n",
    "## Create dataframe with separated sensors on quick pratical approach\n",
    "#######\n",
    "df_new_quick = defs_.createDatabaseSingleSensor(df_quick_test,1)\n",
    "\n",
    "df_new_quick"
   ]
  },
  {
   "cell_type": "code",
   "execution_count": 7,
   "metadata": {},
   "outputs": [],
   "source": [
    "# Start random forest Model\n",
    "\n",
    "df_rf = df_new_final\n",
    "\n",
    "# Setting target variable\n",
    "y = df_rf['damaged']\n",
    "\n",
    "# Setting other variables\n",
    "X = df_rf.drop(columns=['damaged'])\n",
    "\n",
    "X = X.astype(float)\n",
    "\n",
    "# Start random forest Model for quick database\n",
    "\n",
    "df_rf_quick = df_new_quick\n",
    "\n",
    "# Setting target variable\n",
    "y_quick = df_rf_quick['damaged']\n",
    "\n",
    "# Setting other variables\n",
    "X_quick = df_rf_quick.drop(columns=['damaged'])\n",
    "\n",
    "X_quick = X_quick.astype(float)\n"
   ]
  },
  {
   "cell_type": "code",
   "execution_count": 8,
   "metadata": {},
   "outputs": [],
   "source": [
    "# Segregate database for test and train\n",
    "\n",
    "X_train, X_test, y_train, y_test = train_test_split(X, y, test_size=0.3, random_state=0, shuffle=True) \n",
    "\n",
    "std_scaler = StandardScaler()\n",
    "X_scaled_train = pd.DataFrame(std_scaler.fit_transform(X_train), columns=X_train.columns, index=X_train.index)\n",
    "X_scaled_test = pd.DataFrame(std_scaler.transform(X_test),columns=X_train.columns,index=X_test.index)\n",
    "\n",
    "# Segregate database for test and train around the quick test database\n",
    "\n",
    "X_train_quick, X_test_quick, y_train_quick, y_test_quick = train_test_split(X_quick, y_quick, test_size=0.3, random_state=0, shuffle=True) \n",
    "X_scaled_train_quick = pd.DataFrame(std_scaler.fit_transform(X_train_quick), columns=X_train_quick.columns, index=X_train_quick.index)\n",
    "X_scaled_test_quick = pd.DataFrame(std_scaler.transform(X_test_quick),columns=X_train_quick.columns,index=X_test_quick.index)"
   ]
  },
  {
   "cell_type": "code",
   "execution_count": 14,
   "metadata": {},
   "outputs": [
    {
     "data": {
      "text/plain": [
       "0.9682116488925349"
      ]
     },
     "execution_count": 14,
     "metadata": {},
     "output_type": "execute_result"
    }
   ],
   "source": [
    "### DEFAULT PARAMETHERS ON FULL DATAFRAME 0.9682116488925349\n",
    "\n",
    "rf = RandomForestClassifier(n_estimators=100)\n",
    "\n",
    "rf.fit(X_scaled_train,y_train)\n",
    "y_pred = rf.predict(X_scaled_test)\n",
    "\n",
    "accuracy_ = accuracy_score(y_test, y_pred)\n",
    "accuracy_"
   ]
  },
  {
   "cell_type": "code",
   "execution_count": 15,
   "metadata": {},
   "outputs": [
    {
     "data": {
      "text/plain": [
       "0.9999033162525379"
      ]
     },
     "execution_count": 15,
     "metadata": {},
     "output_type": "execute_result"
    }
   ],
   "source": [
    "### OVERFITTING QUICK TEST FOR DEFAULT PARAMETHERS ON FULL DATAFRAME 0.9999033162525379\n",
    "\n",
    "rf = RandomForestClassifier(n_estimators=100)\n",
    "\n",
    "rf.fit(X_scaled_train,y_train)\n",
    "y_pred = rf.predict(X_scaled_train)\n",
    "\n",
    "accuracy_ = accuracy_score(y_train, y_pred)\n",
    "accuracy_"
   ]
  },
  {
   "cell_type": "code",
   "execution_count": 19,
   "metadata": {},
   "outputs": [
    {
     "name": "stderr",
     "output_type": "stream",
     "text": [
      "\u001b[32m[I 2023-05-08 06:00:38,551]\u001b[0m A new study created in memory with name: no-name-16da47bf-b300-46ce-9af8-8c891ba0405c\u001b[0m\n",
      "\u001b[32m[I 2023-05-08 06:01:09,956]\u001b[0m Trial 0 finished with value: 0.9682116488925349 and parameters: {'n_estimators': 400, 'max_depth': 11}. Best is trial 0 with value: 0.9682116488925349.\u001b[0m\n",
      "\u001b[32m[I 2023-05-08 06:02:11,187]\u001b[0m Trial 1 finished with value: 0.9682116488925349 and parameters: {'n_estimators': 500, 'max_depth': 30}. Best is trial 0 with value: 0.9682116488925349.\u001b[0m\n",
      "\u001b[32m[I 2023-05-08 06:05:36,482]\u001b[0m Trial 2 finished with value: 0.9682116488925349 and parameters: {'n_estimators': 1700, 'max_depth': 26}. Best is trial 0 with value: 0.9682116488925349.\u001b[0m\n",
      "\u001b[32m[I 2023-05-08 06:06:08,399]\u001b[0m Trial 3 finished with value: 0.9682116488925349 and parameters: {'n_estimators': 250, 'max_depth': 50}. Best is trial 0 with value: 0.9682116488925349.\u001b[0m\n",
      "\u001b[32m[I 2023-05-08 06:07:55,926]\u001b[0m Trial 4 finished with value: 0.9682116488925349 and parameters: {'n_estimators': 850, 'max_depth': 45}. Best is trial 0 with value: 0.9682116488925349.\u001b[0m\n",
      "\u001b[32m[I 2023-05-08 06:08:14,817]\u001b[0m Trial 5 finished with value: 0.9682116488925349 and parameters: {'n_estimators': 150, 'max_depth': 38}. Best is trial 0 with value: 0.9682116488925349.\u001b[0m\n",
      "\u001b[32m[I 2023-05-08 06:10:22,091]\u001b[0m Trial 6 finished with value: 0.9682116488925349 and parameters: {'n_estimators': 1050, 'max_depth': 27}. Best is trial 0 with value: 0.9682116488925349.\u001b[0m\n",
      "\u001b[32m[I 2023-05-08 06:11:43,325]\u001b[0m Trial 7 finished with value: 0.9682116488925349 and parameters: {'n_estimators': 650, 'max_depth': 38}. Best is trial 0 with value: 0.9682116488925349.\u001b[0m\n",
      "\u001b[32m[I 2023-05-08 06:13:27,547]\u001b[0m Trial 8 finished with value: 0.9682116488925349 and parameters: {'n_estimators': 1050, 'max_depth': 16}. Best is trial 0 with value: 0.9682116488925349.\u001b[0m\n",
      "\u001b[32m[I 2023-05-08 06:14:12,149]\u001b[0m Trial 9 finished with value: 0.9682116488925349 and parameters: {'n_estimators': 900, 'max_depth': 6}. Best is trial 0 with value: 0.9682116488925349.\u001b[0m\n",
      "\u001b[32m[I 2023-05-08 06:14:47,827]\u001b[0m Trial 10 finished with value: 0.9682116488925349 and parameters: {'n_estimators': 1600, 'max_depth': 2}. Best is trial 0 with value: 0.9682116488925349.\u001b[0m\n",
      "\u001b[32m[I 2023-05-08 06:15:30,628]\u001b[0m Trial 11 finished with value: 0.9682116488925349 and parameters: {'n_estimators': 450, 'max_depth': 15}. Best is trial 0 with value: 0.9682116488925349.\u001b[0m\n",
      "\u001b[32m[I 2023-05-08 06:16:19,984]\u001b[0m Trial 12 finished with value: 0.9682116488925349 and parameters: {'n_estimators': 500, 'max_depth': 16}. Best is trial 0 with value: 0.9682116488925349.\u001b[0m\n",
      "\u001b[32m[I 2023-05-08 06:19:06,686]\u001b[0m Trial 13 finished with value: 0.9682116488925349 and parameters: {'n_estimators': 1350, 'max_depth': 31}. Best is trial 0 with value: 0.9682116488925349.\u001b[0m\n",
      "\u001b[32m[I 2023-05-08 06:19:13,692]\u001b[0m Trial 14 finished with value: 0.9682116488925349 and parameters: {'n_estimators': 100, 'max_depth': 9}. Best is trial 0 with value: 0.9682116488925349.\u001b[0m\n",
      "\u001b[32m[I 2023-05-08 06:20:26,634]\u001b[0m Trial 15 finished with value: 0.9682116488925349 and parameters: {'n_estimators': 650, 'max_depth': 21}. Best is trial 0 with value: 0.9682116488925349.\u001b[0m\n",
      "\u001b[32m[I 2023-05-08 06:24:35,875]\u001b[0m Trial 16 finished with value: 0.9682116488925349 and parameters: {'n_estimators': 2000, 'max_depth': 34}. Best is trial 0 with value: 0.9682116488925349.\u001b[0m\n",
      "\u001b[32m[I 2023-05-08 06:25:21,381]\u001b[0m Trial 17 finished with value: 0.9682116488925349 and parameters: {'n_estimators': 400, 'max_depth': 22}. Best is trial 0 with value: 0.9682116488925349.\u001b[0m\n",
      "\u001b[32m[I 2023-05-08 06:26:11,926]\u001b[0m Trial 18 finished with value: 0.9682116488925349 and parameters: {'n_estimators': 750, 'max_depth': 9}. Best is trial 0 with value: 0.9682116488925349.\u001b[0m\n",
      "\u001b[32m[I 2023-05-08 06:26:30,795]\u001b[0m Trial 19 finished with value: 0.9682116488925349 and parameters: {'n_estimators': 1250, 'max_depth': 1}. Best is trial 0 with value: 0.9682116488925349.\u001b[0m\n",
      "\u001b[32m[I 2023-05-08 06:27:08,219]\u001b[0m Trial 20 finished with value: 0.9682116488925349 and parameters: {'n_estimators': 300, 'max_depth': 32}. Best is trial 0 with value: 0.9682116488925349.\u001b[0m\n",
      "\u001b[32m[I 2023-05-08 06:30:59,029]\u001b[0m Trial 21 finished with value: 0.9682116488925349 and parameters: {'n_estimators': 1950, 'max_depth': 24}. Best is trial 0 with value: 0.9682116488925349.\u001b[0m\n",
      "\u001b[32m[I 2023-05-08 06:34:25,860]\u001b[0m Trial 22 finished with value: 0.9682116488925349 and parameters: {'n_estimators': 1700, 'max_depth': 28}. Best is trial 0 with value: 0.9682116488925349.\u001b[0m\n",
      "\u001b[32m[I 2023-05-08 06:36:45,506]\u001b[0m Trial 23 finished with value: 0.9682116488925349 and parameters: {'n_estimators': 1300, 'max_depth': 19}. Best is trial 0 with value: 0.9682116488925349.\u001b[0m\n",
      "\u001b[32m[I 2023-05-08 06:40:31,437]\u001b[0m Trial 24 finished with value: 0.9682116488925349 and parameters: {'n_estimators': 1800, 'max_depth': 37}. Best is trial 0 with value: 0.9682116488925349.\u001b[0m\n",
      "\u001b[32m[I 2023-05-08 06:43:27,781]\u001b[0m Trial 25 finished with value: 0.9682116488925349 and parameters: {'n_estimators': 1450, 'max_depth': 28}. Best is trial 0 with value: 0.9682116488925349.\u001b[0m\n",
      "\u001b[32m[I 2023-05-08 06:44:13,414]\u001b[0m Trial 26 finished with value: 0.9682116488925349 and parameters: {'n_estimators': 550, 'max_depth': 12}. Best is trial 0 with value: 0.9682116488925349.\u001b[0m\n",
      "\u001b[32m[I 2023-05-08 06:46:06,849]\u001b[0m Trial 27 finished with value: 0.9682116488925349 and parameters: {'n_estimators': 900, 'max_depth': 42}. Best is trial 0 with value: 0.9682116488925349.\u001b[0m\n",
      "\u001b[32m[I 2023-05-08 06:46:42,581]\u001b[0m Trial 28 finished with value: 0.9682116488925349 and parameters: {'n_estimators': 300, 'max_depth': 25}. Best is trial 0 with value: 0.9682116488925349.\u001b[0m\n",
      "\u001b[32m[I 2023-05-08 06:49:07,647]\u001b[0m Trial 29 finished with value: 0.9682116488925349 and parameters: {'n_estimators': 1150, 'max_depth': 50}. Best is trial 0 with value: 0.9682116488925349.\u001b[0m\n",
      "\u001b[32m[I 2023-05-08 06:51:52,151]\u001b[0m Trial 30 finished with value: 0.9682116488925349 and parameters: {'n_estimators': 1500, 'max_depth': 20}. Best is trial 0 with value: 0.9682116488925349.\u001b[0m\n",
      "\u001b[32m[I 2023-05-08 06:52:23,847]\u001b[0m Trial 31 finished with value: 0.9682116488925349 and parameters: {'n_estimators': 250, 'max_depth': 49}. Best is trial 0 with value: 0.9682116488925349.\u001b[0m\n",
      "\u001b[32m[I 2023-05-08 06:52:42,736]\u001b[0m Trial 32 finished with value: 0.9682116488925349 and parameters: {'n_estimators': 150, 'max_depth': 43}. Best is trial 0 with value: 0.9682116488925349.\u001b[0m\n",
      "\u001b[32m[I 2023-05-08 06:54:17,286]\u001b[0m Trial 33 finished with value: 0.9682116488925349 and parameters: {'n_estimators': 750, 'max_depth': 45}. Best is trial 0 with value: 0.9682116488925349.\u001b[0m\n",
      "\u001b[32m[I 2023-05-08 06:55:06,734]\u001b[0m Trial 34 finished with value: 0.9682116488925349 and parameters: {'n_estimators': 400, 'max_depth': 35}. Best is trial 0 with value: 0.9682116488925349.\u001b[0m\n",
      "\u001b[32m[I 2023-05-08 06:56:22,185]\u001b[0m Trial 35 finished with value: 0.9682116488925349 and parameters: {'n_estimators': 600, 'max_depth': 41}. Best is trial 0 with value: 0.9682116488925349.\u001b[0m\n",
      "\u001b[32m[I 2023-05-08 06:56:46,876]\u001b[0m Trial 36 finished with value: 0.9682116488925349 and parameters: {'n_estimators': 200, 'max_depth': 32}. Best is trial 0 with value: 0.9682116488925349.\u001b[0m\n",
      "\u001b[32m[I 2023-05-08 06:58:53,650]\u001b[0m Trial 37 finished with value: 0.9682116488925349 and parameters: {'n_estimators': 1000, 'max_depth': 39}. Best is trial 0 with value: 0.9682116488925349.\u001b[0m\n",
      "\u001b[32m[I 2023-05-08 07:00:27,566]\u001b[0m Trial 38 finished with value: 0.9682116488925349 and parameters: {'n_estimators': 750, 'max_depth': 46}. Best is trial 0 with value: 0.9682116488925349.\u001b[0m\n",
      "\u001b[32m[I 2023-05-08 07:00:40,105]\u001b[0m Trial 39 finished with value: 0.9682116488925349 and parameters: {'n_estimators': 350, 'max_depth': 4}. Best is trial 0 with value: 0.9682116488925349.\u001b[0m\n",
      "\u001b[32m[I 2023-05-08 07:01:19,127]\u001b[0m Trial 40 finished with value: 0.9682116488925349 and parameters: {'n_estimators': 450, 'max_depth': 13}. Best is trial 0 with value: 0.9682116488925349.\u001b[0m\n",
      "\u001b[32m[I 2023-05-08 07:03:11,640]\u001b[0m Trial 41 finished with value: 0.9682116488925349 and parameters: {'n_estimators': 900, 'max_depth': 48}. Best is trial 0 with value: 0.9682116488925349.\u001b[0m\n",
      "\u001b[32m[I 2023-05-08 07:04:39,723]\u001b[0m Trial 42 finished with value: 0.9682116488925349 and parameters: {'n_estimators': 700, 'max_depth': 45}. Best is trial 0 with value: 0.9682116488925349.\u001b[0m\n",
      "\u001b[32m[I 2023-05-08 07:05:40,769]\u001b[0m Trial 43 finished with value: 0.9682116488925349 and parameters: {'n_estimators': 500, 'max_depth': 29}. Best is trial 0 with value: 0.9682116488925349.\u001b[0m\n",
      "\u001b[32m[I 2023-05-08 07:07:32,739]\u001b[0m Trial 44 finished with value: 0.9682116488925349 and parameters: {'n_estimators': 1100, 'max_depth': 17}. Best is trial 0 with value: 0.9682116488925349.\u001b[0m\n",
      "\u001b[32m[I 2023-05-08 07:08:47,582]\u001b[0m Trial 45 finished with value: 0.9682116488925349 and parameters: {'n_estimators': 600, 'max_depth': 39}. Best is trial 0 with value: 0.9682116488925349.\u001b[0m\n",
      "\u001b[32m[I 2023-05-08 07:10:27,196]\u001b[0m Trial 46 finished with value: 0.9682116488925349 and parameters: {'n_estimators': 850, 'max_depth': 24}. Best is trial 0 with value: 0.9682116488925349.\u001b[0m\n",
      "\u001b[32m[I 2023-05-08 07:10:45,939]\u001b[0m Trial 47 finished with value: 0.9682116488925349 and parameters: {'n_estimators': 150, 'max_depth': 35}. Best is trial 0 with value: 0.9682116488925349.\u001b[0m\n",
      "\u001b[32m[I 2023-05-08 07:10:57,743]\u001b[0m Trial 48 finished with value: 0.9682116488925349 and parameters: {'n_estimators': 100, 'max_depth': 26}. Best is trial 0 with value: 0.9682116488925349.\u001b[0m\n",
      "\u001b[32m[I 2023-05-08 07:11:29,040]\u001b[0m Trial 49 finished with value: 0.9682116488925349 and parameters: {'n_estimators': 250, 'max_depth': 47}. Best is trial 0 with value: 0.9682116488925349.\u001b[0m\n"
     ]
    },
    {
     "data": {
      "text/plain": [
       "{'n_estimators': 400, 'max_depth': 11}"
      ]
     },
     "execution_count": 19,
     "metadata": {},
     "output_type": "execute_result"
    }
   ],
   "source": [
    "### OPTMAZING PARAMETHERS TO MAXIMIZE SCORE ON FULL DATAFRAME\n",
    "\n",
    "def objective(trial):\n",
    "    ### PARAMS\n",
    "    param_n_estimators = trial.suggest_int('n_estimators',100,2000, step = 50);\n",
    "    # param_max_features = trial.suggest_int('max_features',2,40);\n",
    "    param_max_depth = trial.suggest_int('max_depth',1,50);\n",
    "\n",
    "\n",
    "    rf = RandomForestClassifier(n_estimators=param_n_estimators, max_samples= 0.4 , max_depth = param_max_depth )\n",
    "\n",
    "    rf.fit(X_scaled_train,y_train)\n",
    "    y_pred = rf.predict(X_scaled_test)\n",
    "    accuracy = accuracy_score(y_test, y_pred)\n",
    "    return accuracy\n",
    "\n",
    "study = optuna.create_study(direction='maximize')\n",
    "study.optimize(objective, n_trials=50)\n",
    "\n",
    "study.best_params"
   ]
  },
  {
   "cell_type": "code",
   "execution_count": 21,
   "metadata": {},
   "outputs": [
    {
     "name": "stdout",
     "output_type": "stream",
     "text": [
      "0.9682116488925349\n"
     ]
    },
    {
     "data": {
      "text/plain": [
       "array([0.16355023, 0.17117964, 0.16500328, 0.16482028, 0.16908727,\n",
       "       0.1663593 ])"
      ]
     },
     "execution_count": 21,
     "metadata": {},
     "output_type": "execute_result"
    }
   ],
   "source": [
    "### OPTMIZED PARAMETHERS OF FULL DATABASE ON FULL DATAFRAME\n",
    "\n",
    "rf = RandomForestClassifier(n_estimators=100)\n",
    "\n",
    "rf.fit(X_scaled_train,y_train)\n",
    "y_pred = rf.predict(X_scaled_test)\n",
    "accuracy = accuracy_score(y_test, y_pred)\n",
    "\n",
    "print(accuracy)\n",
    "rf.feature_importances_"
   ]
  },
  {
   "cell_type": "code",
   "execution_count": 22,
   "metadata": {},
   "outputs": [
    {
     "data": {
      "application/vnd.plotly.v1+json": {
       "config": {
        "plotlyServerURL": "https://plot.ly"
       },
       "data": [
        {
         "mode": "markers",
         "name": "Objective Value",
         "type": "scatter",
         "x": [
          0,
          1,
          2,
          3,
          4,
          5,
          6,
          7,
          8,
          9,
          10,
          11,
          12,
          13,
          14,
          15,
          16,
          17,
          18,
          19,
          20,
          21,
          22,
          23,
          24,
          25,
          26,
          27,
          28,
          29,
          30,
          31,
          32,
          33,
          34,
          35,
          36,
          37,
          38,
          39,
          40,
          41,
          42,
          43,
          44,
          45,
          46,
          47,
          48,
          49
         ],
         "y": [
          0.9682116488925349,
          0.9682116488925349,
          0.9682116488925349,
          0.9682116488925349,
          0.9682116488925349,
          0.9682116488925349,
          0.9682116488925349,
          0.9682116488925349,
          0.9682116488925349,
          0.9682116488925349,
          0.9682116488925349,
          0.9682116488925349,
          0.9682116488925349,
          0.9682116488925349,
          0.9682116488925349,
          0.9682116488925349,
          0.9682116488925349,
          0.9682116488925349,
          0.9682116488925349,
          0.9682116488925349,
          0.9682116488925349,
          0.9682116488925349,
          0.9682116488925349,
          0.9682116488925349,
          0.9682116488925349,
          0.9682116488925349,
          0.9682116488925349,
          0.9682116488925349,
          0.9682116488925349,
          0.9682116488925349,
          0.9682116488925349,
          0.9682116488925349,
          0.9682116488925349,
          0.9682116488925349,
          0.9682116488925349,
          0.9682116488925349,
          0.9682116488925349,
          0.9682116488925349,
          0.9682116488925349,
          0.9682116488925349,
          0.9682116488925349,
          0.9682116488925349,
          0.9682116488925349,
          0.9682116488925349,
          0.9682116488925349,
          0.9682116488925349,
          0.9682116488925349,
          0.9682116488925349,
          0.9682116488925349,
          0.9682116488925349
         ]
        },
        {
         "name": "Best Value",
         "type": "scatter",
         "x": [
          0,
          1,
          2,
          3,
          4,
          5,
          6,
          7,
          8,
          9,
          10,
          11,
          12,
          13,
          14,
          15,
          16,
          17,
          18,
          19,
          20,
          21,
          22,
          23,
          24,
          25,
          26,
          27,
          28,
          29,
          30,
          31,
          32,
          33,
          34,
          35,
          36,
          37,
          38,
          39,
          40,
          41,
          42,
          43,
          44,
          45,
          46,
          47,
          48,
          49
         ],
         "y": [
          0.9682116488925349,
          0.9682116488925349,
          0.9682116488925349,
          0.9682116488925349,
          0.9682116488925349,
          0.9682116488925349,
          0.9682116488925349,
          0.9682116488925349,
          0.9682116488925349,
          0.9682116488925349,
          0.9682116488925349,
          0.9682116488925349,
          0.9682116488925349,
          0.9682116488925349,
          0.9682116488925349,
          0.9682116488925349,
          0.9682116488925349,
          0.9682116488925349,
          0.9682116488925349,
          0.9682116488925349,
          0.9682116488925349,
          0.9682116488925349,
          0.9682116488925349,
          0.9682116488925349,
          0.9682116488925349,
          0.9682116488925349,
          0.9682116488925349,
          0.9682116488925349,
          0.9682116488925349,
          0.9682116488925349,
          0.9682116488925349,
          0.9682116488925349,
          0.9682116488925349,
          0.9682116488925349,
          0.9682116488925349,
          0.9682116488925349,
          0.9682116488925349,
          0.9682116488925349,
          0.9682116488925349,
          0.9682116488925349,
          0.9682116488925349,
          0.9682116488925349,
          0.9682116488925349,
          0.9682116488925349,
          0.9682116488925349,
          0.9682116488925349,
          0.9682116488925349,
          0.9682116488925349,
          0.9682116488925349,
          0.9682116488925349
         ]
        }
       ],
       "layout": {
        "template": {
         "data": {
          "bar": [
           {
            "error_x": {
             "color": "#2a3f5f"
            },
            "error_y": {
             "color": "#2a3f5f"
            },
            "marker": {
             "line": {
              "color": "#E5ECF6",
              "width": 0.5
             },
             "pattern": {
              "fillmode": "overlay",
              "size": 10,
              "solidity": 0.2
             }
            },
            "type": "bar"
           }
          ],
          "barpolar": [
           {
            "marker": {
             "line": {
              "color": "#E5ECF6",
              "width": 0.5
             },
             "pattern": {
              "fillmode": "overlay",
              "size": 10,
              "solidity": 0.2
             }
            },
            "type": "barpolar"
           }
          ],
          "carpet": [
           {
            "aaxis": {
             "endlinecolor": "#2a3f5f",
             "gridcolor": "white",
             "linecolor": "white",
             "minorgridcolor": "white",
             "startlinecolor": "#2a3f5f"
            },
            "baxis": {
             "endlinecolor": "#2a3f5f",
             "gridcolor": "white",
             "linecolor": "white",
             "minorgridcolor": "white",
             "startlinecolor": "#2a3f5f"
            },
            "type": "carpet"
           }
          ],
          "choropleth": [
           {
            "colorbar": {
             "outlinewidth": 0,
             "ticks": ""
            },
            "type": "choropleth"
           }
          ],
          "contour": [
           {
            "colorbar": {
             "outlinewidth": 0,
             "ticks": ""
            },
            "colorscale": [
             [
              0,
              "#0d0887"
             ],
             [
              0.1111111111111111,
              "#46039f"
             ],
             [
              0.2222222222222222,
              "#7201a8"
             ],
             [
              0.3333333333333333,
              "#9c179e"
             ],
             [
              0.4444444444444444,
              "#bd3786"
             ],
             [
              0.5555555555555556,
              "#d8576b"
             ],
             [
              0.6666666666666666,
              "#ed7953"
             ],
             [
              0.7777777777777778,
              "#fb9f3a"
             ],
             [
              0.8888888888888888,
              "#fdca26"
             ],
             [
              1,
              "#f0f921"
             ]
            ],
            "type": "contour"
           }
          ],
          "contourcarpet": [
           {
            "colorbar": {
             "outlinewidth": 0,
             "ticks": ""
            },
            "type": "contourcarpet"
           }
          ],
          "heatmap": [
           {
            "colorbar": {
             "outlinewidth": 0,
             "ticks": ""
            },
            "colorscale": [
             [
              0,
              "#0d0887"
             ],
             [
              0.1111111111111111,
              "#46039f"
             ],
             [
              0.2222222222222222,
              "#7201a8"
             ],
             [
              0.3333333333333333,
              "#9c179e"
             ],
             [
              0.4444444444444444,
              "#bd3786"
             ],
             [
              0.5555555555555556,
              "#d8576b"
             ],
             [
              0.6666666666666666,
              "#ed7953"
             ],
             [
              0.7777777777777778,
              "#fb9f3a"
             ],
             [
              0.8888888888888888,
              "#fdca26"
             ],
             [
              1,
              "#f0f921"
             ]
            ],
            "type": "heatmap"
           }
          ],
          "heatmapgl": [
           {
            "colorbar": {
             "outlinewidth": 0,
             "ticks": ""
            },
            "colorscale": [
             [
              0,
              "#0d0887"
             ],
             [
              0.1111111111111111,
              "#46039f"
             ],
             [
              0.2222222222222222,
              "#7201a8"
             ],
             [
              0.3333333333333333,
              "#9c179e"
             ],
             [
              0.4444444444444444,
              "#bd3786"
             ],
             [
              0.5555555555555556,
              "#d8576b"
             ],
             [
              0.6666666666666666,
              "#ed7953"
             ],
             [
              0.7777777777777778,
              "#fb9f3a"
             ],
             [
              0.8888888888888888,
              "#fdca26"
             ],
             [
              1,
              "#f0f921"
             ]
            ],
            "type": "heatmapgl"
           }
          ],
          "histogram": [
           {
            "marker": {
             "pattern": {
              "fillmode": "overlay",
              "size": 10,
              "solidity": 0.2
             }
            },
            "type": "histogram"
           }
          ],
          "histogram2d": [
           {
            "colorbar": {
             "outlinewidth": 0,
             "ticks": ""
            },
            "colorscale": [
             [
              0,
              "#0d0887"
             ],
             [
              0.1111111111111111,
              "#46039f"
             ],
             [
              0.2222222222222222,
              "#7201a8"
             ],
             [
              0.3333333333333333,
              "#9c179e"
             ],
             [
              0.4444444444444444,
              "#bd3786"
             ],
             [
              0.5555555555555556,
              "#d8576b"
             ],
             [
              0.6666666666666666,
              "#ed7953"
             ],
             [
              0.7777777777777778,
              "#fb9f3a"
             ],
             [
              0.8888888888888888,
              "#fdca26"
             ],
             [
              1,
              "#f0f921"
             ]
            ],
            "type": "histogram2d"
           }
          ],
          "histogram2dcontour": [
           {
            "colorbar": {
             "outlinewidth": 0,
             "ticks": ""
            },
            "colorscale": [
             [
              0,
              "#0d0887"
             ],
             [
              0.1111111111111111,
              "#46039f"
             ],
             [
              0.2222222222222222,
              "#7201a8"
             ],
             [
              0.3333333333333333,
              "#9c179e"
             ],
             [
              0.4444444444444444,
              "#bd3786"
             ],
             [
              0.5555555555555556,
              "#d8576b"
             ],
             [
              0.6666666666666666,
              "#ed7953"
             ],
             [
              0.7777777777777778,
              "#fb9f3a"
             ],
             [
              0.8888888888888888,
              "#fdca26"
             ],
             [
              1,
              "#f0f921"
             ]
            ],
            "type": "histogram2dcontour"
           }
          ],
          "mesh3d": [
           {
            "colorbar": {
             "outlinewidth": 0,
             "ticks": ""
            },
            "type": "mesh3d"
           }
          ],
          "parcoords": [
           {
            "line": {
             "colorbar": {
              "outlinewidth": 0,
              "ticks": ""
             }
            },
            "type": "parcoords"
           }
          ],
          "pie": [
           {
            "automargin": true,
            "type": "pie"
           }
          ],
          "scatter": [
           {
            "fillpattern": {
             "fillmode": "overlay",
             "size": 10,
             "solidity": 0.2
            },
            "type": "scatter"
           }
          ],
          "scatter3d": [
           {
            "line": {
             "colorbar": {
              "outlinewidth": 0,
              "ticks": ""
             }
            },
            "marker": {
             "colorbar": {
              "outlinewidth": 0,
              "ticks": ""
             }
            },
            "type": "scatter3d"
           }
          ],
          "scattercarpet": [
           {
            "marker": {
             "colorbar": {
              "outlinewidth": 0,
              "ticks": ""
             }
            },
            "type": "scattercarpet"
           }
          ],
          "scattergeo": [
           {
            "marker": {
             "colorbar": {
              "outlinewidth": 0,
              "ticks": ""
             }
            },
            "type": "scattergeo"
           }
          ],
          "scattergl": [
           {
            "marker": {
             "colorbar": {
              "outlinewidth": 0,
              "ticks": ""
             }
            },
            "type": "scattergl"
           }
          ],
          "scattermapbox": [
           {
            "marker": {
             "colorbar": {
              "outlinewidth": 0,
              "ticks": ""
             }
            },
            "type": "scattermapbox"
           }
          ],
          "scatterpolar": [
           {
            "marker": {
             "colorbar": {
              "outlinewidth": 0,
              "ticks": ""
             }
            },
            "type": "scatterpolar"
           }
          ],
          "scatterpolargl": [
           {
            "marker": {
             "colorbar": {
              "outlinewidth": 0,
              "ticks": ""
             }
            },
            "type": "scatterpolargl"
           }
          ],
          "scatterternary": [
           {
            "marker": {
             "colorbar": {
              "outlinewidth": 0,
              "ticks": ""
             }
            },
            "type": "scatterternary"
           }
          ],
          "surface": [
           {
            "colorbar": {
             "outlinewidth": 0,
             "ticks": ""
            },
            "colorscale": [
             [
              0,
              "#0d0887"
             ],
             [
              0.1111111111111111,
              "#46039f"
             ],
             [
              0.2222222222222222,
              "#7201a8"
             ],
             [
              0.3333333333333333,
              "#9c179e"
             ],
             [
              0.4444444444444444,
              "#bd3786"
             ],
             [
              0.5555555555555556,
              "#d8576b"
             ],
             [
              0.6666666666666666,
              "#ed7953"
             ],
             [
              0.7777777777777778,
              "#fb9f3a"
             ],
             [
              0.8888888888888888,
              "#fdca26"
             ],
             [
              1,
              "#f0f921"
             ]
            ],
            "type": "surface"
           }
          ],
          "table": [
           {
            "cells": {
             "fill": {
              "color": "#EBF0F8"
             },
             "line": {
              "color": "white"
             }
            },
            "header": {
             "fill": {
              "color": "#C8D4E3"
             },
             "line": {
              "color": "white"
             }
            },
            "type": "table"
           }
          ]
         },
         "layout": {
          "annotationdefaults": {
           "arrowcolor": "#2a3f5f",
           "arrowhead": 0,
           "arrowwidth": 1
          },
          "autotypenumbers": "strict",
          "coloraxis": {
           "colorbar": {
            "outlinewidth": 0,
            "ticks": ""
           }
          },
          "colorscale": {
           "diverging": [
            [
             0,
             "#8e0152"
            ],
            [
             0.1,
             "#c51b7d"
            ],
            [
             0.2,
             "#de77ae"
            ],
            [
             0.3,
             "#f1b6da"
            ],
            [
             0.4,
             "#fde0ef"
            ],
            [
             0.5,
             "#f7f7f7"
            ],
            [
             0.6,
             "#e6f5d0"
            ],
            [
             0.7,
             "#b8e186"
            ],
            [
             0.8,
             "#7fbc41"
            ],
            [
             0.9,
             "#4d9221"
            ],
            [
             1,
             "#276419"
            ]
           ],
           "sequential": [
            [
             0,
             "#0d0887"
            ],
            [
             0.1111111111111111,
             "#46039f"
            ],
            [
             0.2222222222222222,
             "#7201a8"
            ],
            [
             0.3333333333333333,
             "#9c179e"
            ],
            [
             0.4444444444444444,
             "#bd3786"
            ],
            [
             0.5555555555555556,
             "#d8576b"
            ],
            [
             0.6666666666666666,
             "#ed7953"
            ],
            [
             0.7777777777777778,
             "#fb9f3a"
            ],
            [
             0.8888888888888888,
             "#fdca26"
            ],
            [
             1,
             "#f0f921"
            ]
           ],
           "sequentialminus": [
            [
             0,
             "#0d0887"
            ],
            [
             0.1111111111111111,
             "#46039f"
            ],
            [
             0.2222222222222222,
             "#7201a8"
            ],
            [
             0.3333333333333333,
             "#9c179e"
            ],
            [
             0.4444444444444444,
             "#bd3786"
            ],
            [
             0.5555555555555556,
             "#d8576b"
            ],
            [
             0.6666666666666666,
             "#ed7953"
            ],
            [
             0.7777777777777778,
             "#fb9f3a"
            ],
            [
             0.8888888888888888,
             "#fdca26"
            ],
            [
             1,
             "#f0f921"
            ]
           ]
          },
          "colorway": [
           "#636efa",
           "#EF553B",
           "#00cc96",
           "#ab63fa",
           "#FFA15A",
           "#19d3f3",
           "#FF6692",
           "#B6E880",
           "#FF97FF",
           "#FECB52"
          ],
          "font": {
           "color": "#2a3f5f"
          },
          "geo": {
           "bgcolor": "white",
           "lakecolor": "white",
           "landcolor": "#E5ECF6",
           "showlakes": true,
           "showland": true,
           "subunitcolor": "white"
          },
          "hoverlabel": {
           "align": "left"
          },
          "hovermode": "closest",
          "mapbox": {
           "style": "light"
          },
          "paper_bgcolor": "white",
          "plot_bgcolor": "#E5ECF6",
          "polar": {
           "angularaxis": {
            "gridcolor": "white",
            "linecolor": "white",
            "ticks": ""
           },
           "bgcolor": "#E5ECF6",
           "radialaxis": {
            "gridcolor": "white",
            "linecolor": "white",
            "ticks": ""
           }
          },
          "scene": {
           "xaxis": {
            "backgroundcolor": "#E5ECF6",
            "gridcolor": "white",
            "gridwidth": 2,
            "linecolor": "white",
            "showbackground": true,
            "ticks": "",
            "zerolinecolor": "white"
           },
           "yaxis": {
            "backgroundcolor": "#E5ECF6",
            "gridcolor": "white",
            "gridwidth": 2,
            "linecolor": "white",
            "showbackground": true,
            "ticks": "",
            "zerolinecolor": "white"
           },
           "zaxis": {
            "backgroundcolor": "#E5ECF6",
            "gridcolor": "white",
            "gridwidth": 2,
            "linecolor": "white",
            "showbackground": true,
            "ticks": "",
            "zerolinecolor": "white"
           }
          },
          "shapedefaults": {
           "line": {
            "color": "#2a3f5f"
           }
          },
          "ternary": {
           "aaxis": {
            "gridcolor": "white",
            "linecolor": "white",
            "ticks": ""
           },
           "baxis": {
            "gridcolor": "white",
            "linecolor": "white",
            "ticks": ""
           },
           "bgcolor": "#E5ECF6",
           "caxis": {
            "gridcolor": "white",
            "linecolor": "white",
            "ticks": ""
           }
          },
          "title": {
           "x": 0.05
          },
          "xaxis": {
           "automargin": true,
           "gridcolor": "white",
           "linecolor": "white",
           "ticks": "",
           "title": {
            "standoff": 15
           },
           "zerolinecolor": "white",
           "zerolinewidth": 2
          },
          "yaxis": {
           "automargin": true,
           "gridcolor": "white",
           "linecolor": "white",
           "ticks": "",
           "title": {
            "standoff": 15
           },
           "zerolinecolor": "white",
           "zerolinewidth": 2
          }
         }
        },
        "title": {
         "text": "Optimization History Plot"
        },
        "xaxis": {
         "title": {
          "text": "Trial"
         }
        },
        "yaxis": {
         "title": {
          "text": "Objective Value"
         }
        }
       }
      }
     },
     "metadata": {},
     "output_type": "display_data"
    }
   ],
   "source": [
    "optuna.visualization.plot_optimization_history(study)"
   ]
  }
 ],
 "metadata": {
  "kernelspec": {
   "display_name": "base",
   "language": "python",
   "name": "python3"
  },
  "language_info": {
   "codemirror_mode": {
    "name": "ipython",
    "version": 3
   },
   "file_extension": ".py",
   "mimetype": "text/x-python",
   "name": "python",
   "nbconvert_exporter": "python",
   "pygments_lexer": "ipython3",
   "version": "3.9.13"
  },
  "orig_nbformat": 4,
  "vscode": {
   "interpreter": {
    "hash": "f08154012ddadd8e950e6e9e035c7a7b32c136e7647e9b7c77e02eb723a8bedb"
   }
  }
 },
 "nbformat": 4,
 "nbformat_minor": 2
}
