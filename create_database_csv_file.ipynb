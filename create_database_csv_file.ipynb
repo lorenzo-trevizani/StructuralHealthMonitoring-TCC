{
 "cells": [
  {
   "cell_type": "code",
   "execution_count": null,
   "metadata": {},
   "outputs": [],
   "source": [
    "import glob\n",
    "import pandas as pd\n",
    "\n",
    "#IMPORTING FUNCTIONS FROM ./defs\n",
    "from defs import defs_"
   ]
  },
  {
   "attachments": {},
   "cell_type": "markdown",
   "metadata": {},
   "source": [
    "# Gerando e importando arquivos do database em .csv"
   ]
  },
  {
   "cell_type": "code",
   "execution_count": null,
   "metadata": {},
   "outputs": [],
   "source": [
    "#PATHS USED\n",
    "path_quick_test = [\n",
    "    \"./database_raw/DatasetA/zzzAD1.txt\",\n",
    "    \"./database_raw/DatasetA/zzzAD30.txt\",\n",
    "    \"./database_raw/DatasetA/zzzAD12.txt\",\n",
    "    \"./database_raw/DatasetA/zzzAU.txt\",\n",
    "]\n",
    "\n",
    "path = glob.glob(\"./database_raw/DatasetA/zzzA*.txt\", recursive=True)\n",
    "\n",
    "pathB = glob.glob(\"./database_raw/DatasetB/zzzB*.txt\", recursive=True)\n",
    "\n",
    "# Qty of row to be aggrouped \n",
    "samples = 1024\n"
   ]
  },
  {
   "cell_type": "code",
   "execution_count": null,
   "metadata": {},
   "outputs": [],
   "source": [
    "# Initiate DF's\n",
    "\n",
    "#!!! You need to create a folder under df_csv/ with name '<samples>_samples' !!!\n",
    "\n",
    "# Create full database with all data available on DATASETA\n",
    "df_final = defs_.prepareDatabase(path, samples, typeof='both');\n",
    "# Instead of creating database every time, it was exported as a csv file named 'dataframe_final' on root of project, imported using following code\n",
    "df_final.to_csv('df_csv/' + str(samples) + '_samples/dataframe_final')\n",
    "#######\n",
    "## Example of code to import database as pd\n",
    "# df_final = pd.read_csv('df_csv/' + str(samples) + '_samples/dataframe_final', index_col=0, dtype='unicode');\n",
    "#######\n",
    "\n",
    "# Create pratical database with three different scenarios available on DATASETA, use to test code before apply on full database in order to save time\n",
    "df_quick_test = defs_.prepareDatabase(path_quick_test, samples, typeof='both');\n",
    "# Instead of creating database every time, it was exported as a csv file named 'dataframesimples' on root of project, imported using following code\n",
    "df_quick_test.to_csv('df_csv/' + str(samples) + '_samples/dataframe_simples')\n",
    "# Import database on csv file using following code\n",
    "#######\n",
    "## Example of code to import database as pd\n",
    "# df_quick_test = pd.read_csv('df_csv/' + str(samples) + '_samples/dataframe_simples', index_col=0, dtype='unicode');\n",
    "#######\n",
    "\n",
    "### time: 6m 15s\n",
    "\n",
    "df_final"
   ]
  },
  {
   "cell_type": "code",
   "execution_count": null,
   "metadata": {},
   "outputs": [],
   "source": [
    "# Initiate DF's\n",
    "\n",
    "#!!! You need to create a folder under df_csv/ with name '<samples>_samples' !!!\n",
    "\n",
    "# Create full database with all data available on DATASETA\n",
    "df_final = defs_.prepareDatabase(pathB, samples, typeof='both');\n",
    "# Instead of creating database every time, it was exported as a csv file named 'dataframe_final' on root of project, imported using following code\n",
    "df_final.to_csv('df_csv/' + str(samples) + '_samples/dataframeB_final')\n",
    "#######\n",
    "## Example of code to import database as pd\n",
    "# df_final = pd.read_csv('df_csv/' + str(samples) + '_samples/dataframe_final', index_col=0, dtype='unicode');\n",
    "#######\n",
    "\n",
    "### time: 6m 15s\n",
    "\n",
    "df_final"
   ]
  }
 ],
 "metadata": {
  "kernelspec": {
   "display_name": "base",
   "language": "python",
   "name": "python3"
  },
  "language_info": {
   "codemirror_mode": {
    "name": "ipython",
    "version": 3
   },
   "file_extension": ".py",
   "mimetype": "text/x-python",
   "name": "python",
   "nbconvert_exporter": "python",
   "pygments_lexer": "ipython3",
   "version": "3.9.13"
  },
  "orig_nbformat": 4
 },
 "nbformat": 4,
 "nbformat_minor": 2
}
