{
 "cells": [
  {
   "cell_type": "code",
   "execution_count": 2,
   "metadata": {},
   "outputs": [],
   "source": [
    "import glob\n",
    "import matplotlib.pyplot as plt\n",
    "import pandas as pd\n",
    "from numpy.fft import fft, ifft\n",
    "import numpy as np\n",
    "import scipy\n",
    "import seaborn as sns\n",
    "from sklearn.model_selection import cross_val_score, train_test_split, KFold, StratifiedShuffleSplit, TimeSeriesSplit, RepeatedKFold\n",
    "from sklearn.preprocessing import StandardScaler\n",
    "\n",
    "#IMPORTING FUNCTIONS FROM ./defs\n",
    "\n",
    "from defs import defs_"
   ]
  },
  {
   "cell_type": "code",
   "execution_count": 3,
   "metadata": {},
   "outputs": [],
   "source": [
    "#PATHS USED\n",
    "path_quick_test = [\n",
    "    \"./database_raw/DatasetA/zzzAD1.txt\",\n",
    "    \"./database_raw/DatasetA/zzzAD30.txt\",\n",
    "    \"./database_raw/DatasetA/zzzAD12.txt\",\n",
    "]\n",
    "\n",
    "path = glob.glob(\"./database_raw/DatasetA/zzzA*.txt\", recursive=True)\n"
   ]
  },
  {
   "cell_type": "code",
   "execution_count": null,
   "metadata": {},
   "outputs": [],
   "source": [
    "#Initiate base for DF \n",
    "\n",
    "df_quick_test = defs_.prepareDatabase(path_quick_test);\n",
    "\n",
    "df_quick_test "
   ]
  },
  {
   "cell_type": "code",
   "execution_count": null,
   "metadata": {},
   "outputs": [],
   "source": [
    "#Start random forest Model\n",
    "\n",
    "## df_1_S1 = df_1_S1.drop(columns=['rms','min','max'])\n",
    "df_1_S1['Sensor'] = 'S1'\n",
    "df_1_S1['Scenario'] = '1'\n",
    "\n",
    "## df_12_S1 = df_12_S1.drop(columns=['rms','min','max'])\n",
    "df_12_S1['Sensor'] = 'S1'\n",
    "df_12_S1['Scenario'] = '12'\n",
    "\n",
    "df_test = pd.concat([df_1_S1,df_12_S1], axis=0) \n",
    "\n",
    "df_test\n",
    "X= df_test.drop(columns=['Scenario'])\n",
    "y= df_test['Scenario']\n",
    "Sensor = X['Sensor']\n",
    "Sensor"
   ]
  },
  {
   "cell_type": "code",
   "execution_count": null,
   "metadata": {},
   "outputs": [],
   "source": [
    "\n",
    "X_dum = pd.get_dummies(X, prefix=['Sensor'])\n",
    "X_sensor = X.drop(columns=['Sensor'])\n",
    "X"
   ]
  },
  {
   "cell_type": "code",
   "execution_count": null,
   "metadata": {},
   "outputs": [],
   "source": [
    "\n",
    "X_train, X_test, y_train, y_test = train_test_split(X, y,test_size=0.3,random_state=0,shuffle=True) \n",
    "\n",
    "std_scaler = StandardScaler()\n",
    "X_scaled_train = pd.DataFrame(std_scaler.fit_transform(X_train2 = X_train.drop(columns=['Sensor'])),columns=X_train2.columns,index=X_train2.index)\n",
    "X_scaled_test = pd.DataFrame(std_scaler.transform(X_test),columns=X_train2.columns,index=X_test.index)\n",
    "\n",
    "X_scaled_train,X_scaled_test, y_train,y_test"
   ]
  }
 ],
 "metadata": {
  "kernelspec": {
   "display_name": "base",
   "language": "python",
   "name": "python3"
  },
  "language_info": {
   "codemirror_mode": {
    "name": "ipython",
    "version": 3
   },
   "file_extension": ".py",
   "mimetype": "text/x-python",
   "name": "python",
   "nbconvert_exporter": "python",
   "pygments_lexer": "ipython3",
   "version": "3.9.13"
  },
  "orig_nbformat": 4,
  "vscode": {
   "interpreter": {
    "hash": "f08154012ddadd8e950e6e9e035c7a7b32c136e7647e9b7c77e02eb723a8bedb"
   }
  }
 },
 "nbformat": 4,
 "nbformat_minor": 2
}
